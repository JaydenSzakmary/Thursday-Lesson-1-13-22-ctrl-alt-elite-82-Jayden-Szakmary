{
 "cells": [
  {
   "cell_type": "markdown",
   "metadata": {},
   "source": [
    "# Object-Oriented-Programming (OOP)"
   ]
  },
  {
   "cell_type": "markdown",
   "metadata": {},
   "source": [
    "## Tasks Today:\n",
    "\n",
    "   \n",
    "\n",
    "1) <b>Creating a Class (Initializing/Declaring)</b> <br>\n",
    "2) <b>Using a Class (Instantiating)</b> <br>\n",
    " &nbsp;&nbsp;&nbsp;&nbsp; a) Creating One Instance <br>\n",
    " &nbsp;&nbsp;&nbsp;&nbsp; b) Creating Multiple Instances <br>\n",
    " &nbsp;&nbsp;&nbsp;&nbsp; c) In-Class Exercise #1 - Create a Class 'Car' and instantiate three different makes of cars <br>\n",
    "3) <b>The \\__init\\__() Method</b> <br>\n",
    " &nbsp;&nbsp;&nbsp;&nbsp; a) The 'self' Attribute <br>\n",
    "4) <b>Class Attributes</b> <br>\n",
    " &nbsp;&nbsp;&nbsp;&nbsp; a) Initializing Attributes <br>\n",
    " &nbsp;&nbsp;&nbsp;&nbsp; b) Setting an Attribute Outside of the \\__init\\__() Method <br>\n",
    " &nbsp;&nbsp;&nbsp;&nbsp; c) Setting Defaults for Attributes <br>\n",
    " &nbsp;&nbsp;&nbsp;&nbsp; d) Accessing Class Attributes <br>\n",
    " &nbsp;&nbsp;&nbsp;&nbsp; e) Changing Class Attributes <br>\n",
    " &nbsp;&nbsp;&nbsp;&nbsp; f) In-Class Exercise #2 - Add a color and wheels attribute to your 'Car' class <br>\n",
    "5) <b>Class Methods</b> <br>\n",
    " &nbsp;&nbsp;&nbsp;&nbsp; a) Creating <br>\n",
    " &nbsp;&nbsp;&nbsp;&nbsp; b) Calling <br>\n",
    " &nbsp;&nbsp;&nbsp;&nbsp; c) Modifying an Attribute's Value Through a Method <br>\n",
    " &nbsp;&nbsp;&nbsp;&nbsp; d) Incrementing an Attribute's Value Through a Method <br>\n",
    " &nbsp;&nbsp;&nbsp;&nbsp; e) In-Class Exercise #3 - Add a method that prints the cars color and wheel number, then call them <br>\n",
    "6) <b>Inheritance</b> <br>\n",
    " &nbsp;&nbsp;&nbsp;&nbsp; a) Syntax for Inheriting from a Parent Class <br>\n",
    " &nbsp;&nbsp;&nbsp;&nbsp; b) The \\__init\\__() Method for a Child Class (super()) <br>\n",
    " &nbsp;&nbsp;&nbsp;&nbsp; c) Defining Attributes and Methods for the Child Class <br>\n",
    " &nbsp;&nbsp;&nbsp;&nbsp; d) Method Overriding <br>\n",
    " &nbsp;&nbsp;&nbsp;&nbsp; e) In-Class Exercise #4 - Create a class 'Ford' that inherits from 'Car' class and initialize it as a Blue Ford Explorer with 4 wheels using the super() method <br>\n",
    "7) <b>Classes as Attributes</b> <br>\n",
    "8) <b>Exercises</b> <br>\n",
    " &nbsp;&nbsp;&nbsp;&nbsp; a) Exercise #1 - Turn the shopping cart program from yesterday into an object-oriented program <br>"
   ]
  },
  {
   "cell_type": "code",
   "execution_count": null,
   "metadata": {},
   "outputs": [],
   "source": []
  },
  {
   "cell_type": "code",
   "execution_count": null,
   "metadata": {},
   "outputs": [],
   "source": [
    "# Circumfrance of a cirle\n"
   ]
  },
  {
   "cell_type": "markdown",
   "metadata": {},
   "source": [
    "## Creating a Class (Initializing/Declaring)\n",
    "<p>When creating a class, function, or even a variable you are initializing that object. Initializing and Declaring occur at the same time in Python, whereas in lower level languages you have to declare an object before initializing it. This is the first step in the process of using a class.</p>"
   ]
  },
  {
   "cell_type": "code",
   "execution_count": 2,
   "metadata": {},
   "outputs": [],
   "source": [
    "class Car():\n",
    "    wheels = 4\n",
    "    color = \"blue\"\n",
    "    "
   ]
  },
  {
   "cell_type": "markdown",
   "metadata": {},
   "source": [
    "## Using a Class (Instantiating)\n",
    "<p>The process of creating a class is called <i>Instantiating</i>. Each time you create a variable of that type of class, it is referred to as an <i>Instance</i> of that class. This is the second step in the process of using a class.</p>"
   ]
  },
  {
   "cell_type": "markdown",
   "metadata": {},
   "source": [
    "##### Creating One Instance"
   ]
  },
  {
   "cell_type": "code",
   "execution_count": 3,
   "metadata": {},
   "outputs": [],
   "source": [
    "ford = Car()"
   ]
  },
  {
   "cell_type": "markdown",
   "metadata": {},
   "source": [
    "##### Creating Multiple Instances"
   ]
  },
  {
   "cell_type": "code",
   "execution_count": 6,
   "metadata": {},
   "outputs": [
    {
     "name": "stdout",
     "output_type": "stream",
     "text": [
      "4\n",
      "blue\n",
      "4\n",
      "4\n"
     ]
    }
   ],
   "source": [
    "chevy = Car()\n",
    "honda = Car()\n",
    "porsche = Car\n",
    "\n",
    "print(ford.wheels)\n",
    "print(chevy.color)\n",
    "print(honda.wheels)\n",
    "print(porsche.wheels)"
   ]
  },
  {
   "cell_type": "markdown",
   "metadata": {},
   "source": [
    "##### In-Class Exercise #1 - Create a Class 'Car' and Instantiate three different makes of cars"
   ]
  },
  {
   "cell_type": "code",
   "execution_count": 14,
   "metadata": {},
   "outputs": [],
   "source": [
    "class Vehicle:\n",
    "    doors = 4\n",
    "    color = 'red'\n",
    "    sunroof = True\n",
    "    wheels = 4"
   ]
  },
  {
   "cell_type": "code",
   "execution_count": 16,
   "metadata": {},
   "outputs": [
    {
     "name": "stdout",
     "output_type": "stream",
     "text": [
      "True\n",
      "red\n",
      "4\n"
     ]
    }
   ],
   "source": [
    "nissan = Vehicle\n",
    "acura = Vehicle\n",
    "dodge = Vehicle\n",
    "\n",
    "print(nissan.sunroof)\n",
    "print(acura.color)\n",
    "print(dodge.doors)"
   ]
  },
  {
   "cell_type": "markdown",
   "metadata": {},
   "source": [
    "## The \\__init\\__() Method <br>\n",
    "<p>This method is used in almost every created class, and called only once upon the creation of the class instance. This method will initialize all variables needed for the object.</p>"
   ]
  },
  {
   "cell_type": "code",
   "execution_count": 27,
   "metadata": {},
   "outputs": [
    {
     "name": "stdout",
     "output_type": "stream",
     "text": [
      "4.7L\n",
      "4.7L\n"
     ]
    }
   ],
   "source": [
    "class Car():\n",
    "    engine = \"4.7L\" #class atribute\n",
    "    \n",
    "    #constructor\n",
    "    def __init__(self,num_of_wheels,seats,doors):\n",
    "        self.wheels = num_of_wheels # instance atribute\n",
    "        self.seats = seats\n",
    "        self.doors = doors\n",
    "ford = Car(4,3,2)\n",
    "Car.engine\n",
    "ford.wheels\n",
    "trike = Car(3,1,2)\n",
    "print(trike.engine)\n",
    "print(ford.engine)"
   ]
  },
  {
   "cell_type": "markdown",
   "metadata": {},
   "source": [
    "##### The 'self' Attribute <br>\n",
    "<p>This attribute is required to keep track of specific instance's attributes. Without the self attribute, the program would not know how to reference or keep track of an instance's attributes.</p>"
   ]
  },
  {
   "cell_type": "code",
   "execution_count": null,
   "metadata": {},
   "outputs": [],
   "source": [
    "# see above"
   ]
  },
  {
   "cell_type": "markdown",
   "metadata": {},
   "source": [
    "## Class Attributes <br>\n",
    "<p>While variables are inside of a class, they are referred to as attributes and not variables. When someone says 'attribute' you know they're speaking about a class. Attributes can be initialized through the init method, or outside of it.</p>"
   ]
  },
  {
   "cell_type": "markdown",
   "metadata": {},
   "source": [
    "##### Initializing Attributes"
   ]
  },
  {
   "cell_type": "code",
   "execution_count": null,
   "metadata": {},
   "outputs": [],
   "source": [
    "# see above"
   ]
  },
  {
   "cell_type": "markdown",
   "metadata": {},
   "source": [
    "##### Accessing Class Attributes"
   ]
  },
  {
   "cell_type": "code",
   "execution_count": null,
   "metadata": {
    "scrolled": true
   },
   "outputs": [],
   "source": [
    "# See Above"
   ]
  },
  {
   "cell_type": "markdown",
   "metadata": {},
   "source": [
    "##### Setting Defaults for Attributes"
   ]
  },
  {
   "cell_type": "code",
   "execution_count": null,
   "metadata": {},
   "outputs": [],
   "source": []
  },
  {
   "cell_type": "markdown",
   "metadata": {},
   "source": [
    "##### Changing Class Attributes <br>\n",
    "<p>Keep in mind there are global class attributes and then there are attributes only available to each class instance which won't effect other classes.</p>"
   ]
  },
  {
   "cell_type": "code",
   "execution_count": 25,
   "metadata": {},
   "outputs": [
    {
     "data": {
      "text/plain": [
       "'2.0L'"
      ]
     },
     "execution_count": 25,
     "metadata": {},
     "output_type": "execute_result"
    }
   ],
   "source": [
    "Car.engine = \"2.0L\"\n",
    "Car.engine\n",
    "ford.engine"
   ]
  },
  {
   "cell_type": "code",
   "execution_count": null,
   "metadata": {},
   "outputs": [],
   "source": []
  },
  {
   "cell_type": "markdown",
   "metadata": {},
   "source": [
    "##### In-Class Exercise #2 - Add a doors and seats attribute to your 'Car' class then print out two different instances with different doors and seats"
   ]
  },
  {
   "cell_type": "code",
   "execution_count": 29,
   "metadata": {},
   "outputs": [
    {
     "name": "stdout",
     "output_type": "stream",
     "text": [
      "lambo has 2 seats and 2 doors\n",
      "minivan has 7 seats and 4 doors\n"
     ]
    }
   ],
   "source": [
    "class Car():\n",
    "    engine = \"4.7L\" #class atribute\n",
    "    \n",
    "    #constructor\n",
    "    def __init__(self,num_of_wheels,seats,doors):\n",
    "        self.wheels = num_of_wheels # instance atribute\n",
    "        self.seats = seats\n",
    "        self.doors = doors\n",
    "lambo = Car(4,2,2)\n",
    "minivan = Car(4,7,4)\n",
    "print(f\"lambo has {lambo.seats} seats and {lambo.doors} doors\")\n",
    "print(f\"minivan has {minivan.seats} seats and {minivan.doors} doors\")"
   ]
  },
  {
   "cell_type": "markdown",
   "metadata": {},
   "source": [
    "## instance Methods <br>\n",
    "<p>While inside of a class, functions are referred to as 'methods'. If you hear someone mention methods, they're speaking about classes. Methods are essentially functions, but only callable on the instances of a class.</p>"
   ]
  },
  {
   "cell_type": "markdown",
   "metadata": {},
   "source": [
    "##### Creating"
   ]
  },
  {
   "cell_type": "code",
   "execution_count": 36,
   "metadata": {},
   "outputs": [],
   "source": [
    "class Cars():\n",
    "    def __init__(self,wheels,color,seats):\n",
    "        self.wheel = wheels\n",
    "        self.color = color\n",
    "        self.seats = seats\n",
    "        \n",
    "    def drive(self):\n",
    "        print(\"VROOOOM\")\n",
    "    \n",
    "    def set_color(self,new_color):\n",
    "        self.color = new_color\n",
    "        \n",
    "    def describe(self):\n",
    "        print(f\"the car is {self.color} with {self.seats} seats and {self.wheel} wheels\")\n",
    "        \n",
    "    def addseats(self):\n",
    "        self.seats += 1\n",
    "        \n"
   ]
  },
  {
   "cell_type": "code",
   "execution_count": 41,
   "metadata": {},
   "outputs": [
    {
     "name": "stdout",
     "output_type": "stream",
     "text": [
      "VROOOOM\n",
      "the car is red with 7 seats and 4 wheels\n",
      "the car is Green with 8 seats and 4 wheels\n"
     ]
    }
   ],
   "source": [
    "chevy = Cars(4,\"red\",7)\n",
    "chevy.drive()\n",
    "chevy.describe()\n",
    "chevy.set_color(\"Green\")\n",
    "chevy.addseats()\n",
    "chevy.describe()"
   ]
  },
  {
   "cell_type": "markdown",
   "metadata": {},
   "source": [
    "##### Calling"
   ]
  },
  {
   "cell_type": "code",
   "execution_count": null,
   "metadata": {},
   "outputs": [],
   "source": [
    "# See Above"
   ]
  },
  {
   "cell_type": "markdown",
   "metadata": {},
   "source": [
    "##### Modifying an Attribute's Value Through a Method"
   ]
  },
  {
   "cell_type": "code",
   "execution_count": null,
   "metadata": {},
   "outputs": [],
   "source": []
  },
  {
   "cell_type": "markdown",
   "metadata": {},
   "source": [
    "##### Incrementing an Attribute's Value Through a Method"
   ]
  },
  {
   "cell_type": "code",
   "execution_count": null,
   "metadata": {},
   "outputs": [],
   "source": []
  },
  {
   "cell_type": "markdown",
   "metadata": {},
   "source": [
    "##### In-Class Exercise #3 - Add a method that takes in three parameters of year, doors and seats and prints out a formatted print statement with make, model, year, seats, and doors"
   ]
  },
  {
   "cell_type": "code",
   "execution_count": 49,
   "metadata": {},
   "outputs": [
    {
     "name": "stdout",
     "output_type": "stream",
     "text": [
      "this car is a 2011 nissan and has 4 doors and 4 seats\n",
      "nissan Altima is better than ford POS\n"
     ]
    }
   ],
   "source": [
    "# Create class with 2 paramters inside of the __init__ which are make and model\n",
    "\n",
    "# Inside of the Car class create a method that has 4 parameter in total (self,year,door,seats)\n",
    "\n",
    "# Output: This car is from 2019 and is a Ford Expolorer and has 4 doors and 5 seats\n",
    "\n",
    "class Cars():\n",
    "    def __init__(self,make,model):\n",
    "        self.make = make\n",
    "        self.model = model\n",
    "        \n",
    "    def info(self,year,door,s):\n",
    "        self.year = year\n",
    "        self.door = door\n",
    "        self.seats = s\n",
    "        \n",
    "    def describe(self):\n",
    "        print(f\"this car is a {self.year} {self.make} and has {self.door} doors and {self.seats} seats\")\n",
    "        \n",
    "    def whobetter(car1,car2):  #class method\n",
    "        if car1.door > car2.door:\n",
    "            print(f\"{car1.make} {car1.model} is better than {car2.make} {car2.model}\")\n",
    "        else:\n",
    "            print(f\"{car1.make} {car1.model} is better than {car2.make} {car2.model}\")\n",
    "            \n",
    "mine = Cars(\"nissan\",\"Altima\")\n",
    "mine.info(2011,4,4)\n",
    "mine.describe()\n",
    "other = Cars(\"ford\",\"POS\")\n",
    "other.info(1991,2,4)\n",
    "\n",
    "Cars.whobetter(mine,other)\n"
   ]
  },
  {
   "cell_type": "markdown",
   "metadata": {},
   "source": [
    "## Inheritance <br>\n",
    "<p>You can create a child-parent relationship between two classes by using inheritance. What this allows you to do is have overriding methods, but also inherit traits from the parent class. Think of it as an actual parent and child, the child will inherit the parent's genes, as will the classes in OOP</p>"
   ]
  },
  {
   "cell_type": "markdown",
   "metadata": {},
   "source": [
    "##### Syntax for Inheriting from a Parent Class"
   ]
  },
  {
   "cell_type": "code",
   "execution_count": 55,
   "metadata": {},
   "outputs": [
    {
     "name": "stdout",
     "output_type": "stream",
     "text": [
      "Roar\n",
      "Galloping\n",
      "The dog had 15 m/s and 9.8 m/s**2\n",
      "bark\n",
      "Galloping\n",
      "black lab\n",
      "True\n"
     ]
    }
   ],
   "source": [
    "class Animal():\n",
    "    acc=9.8\n",
    "    def __init__(self,name,species,legs=4):\n",
    "        self.name = name\n",
    "        self.species = species\n",
    "        self.legs = legs\n",
    "        \n",
    "    def speak(self):\n",
    "        print(\"Roar\")\n",
    "        \n",
    "    def run(self):\n",
    "        print(\"Galloping\")\n",
    "        \n",
    "zebra = Animal(\"zee\",'Zebra')\n",
    "zebra.speak()\n",
    "zebra.run()\n",
    "\n",
    "\n",
    "class Dog(Animal):\n",
    "    speed = 15\n",
    "    def __init__(self,trained,name,species,legs=4):\n",
    "        super().__init__(name,species,legs)\n",
    "        self.trained = trained\n",
    "    \n",
    "    def describe(self):\n",
    "        print(f\"The dog had {self.speed} m/s and {self.acc} m/s**2\")\n",
    "        \n",
    "    def speak(self):\n",
    "        print(\"bark\")\n",
    "\n",
    "nala = Dog(True, \"Nala\",\"black lab\")\n",
    "nala.describe()\n",
    "nala.speak()\n",
    "nala.run()\n",
    "print(nala.species)\n",
    "print(nala.trained)"
   ]
  },
  {
   "cell_type": "code",
   "execution_count": 58,
   "metadata": {},
   "outputs": [
    {
     "name": "stdout",
     "output_type": "stream",
     "text": [
      "True\n",
      "True\n"
     ]
    }
   ],
   "source": [
    "isinstance(\"hey\",str)\n",
    "print(isinstance(nala, Dog))\n",
    "print(isinstance(nala, Animal))"
   ]
  },
  {
   "cell_type": "code",
   "execution_count": 57,
   "metadata": {},
   "outputs": [
    {
     "name": "stdout",
     "output_type": "stream",
     "text": [
      "<class '__main__.Dog'>\n"
     ]
    }
   ],
   "source": [
    "print(type(nala))"
   ]
  },
  {
   "cell_type": "code",
   "execution_count": 63,
   "metadata": {},
   "outputs": [
    {
     "name": "stdout",
     "output_type": "stream",
     "text": [
      "the mutt is a mix of pittbull and boxer\n",
      "Galloping\n"
     ]
    }
   ],
   "source": [
    "class Mutt(Dog):\n",
    "    def __init__(self,secondspecies,trained,name,species,legs=4):\n",
    "        super().__init__(trained,name,species,legs)\n",
    "        self.secondspecies = secondspecies\n",
    "        \n",
    "    def described(self):\n",
    "        print(f\"the mutt is a mix of {self.species} and {self.secondspecies}\")\n",
    "        \n",
    "tippi = Mutt(\"boxer\",True,\"tippi\", \"pittbull\")\n",
    "tippi.described()\n",
    "tippi.run()"
   ]
  },
  {
   "cell_type": "markdown",
   "metadata": {},
   "source": [
    "##### The \\__init\\__() Method for a Child Class - super()"
   ]
  },
  {
   "cell_type": "code",
   "execution_count": null,
   "metadata": {
    "scrolled": true
   },
   "outputs": [],
   "source": []
  },
  {
   "cell_type": "markdown",
   "metadata": {},
   "source": [
    "##### Defining Attributes and Methods for the Child Class"
   ]
  },
  {
   "cell_type": "code",
   "execution_count": null,
   "metadata": {},
   "outputs": [],
   "source": [
    "# See Above"
   ]
  },
  {
   "cell_type": "markdown",
   "metadata": {},
   "source": [
    "##### Method Overriding"
   ]
  },
  {
   "cell_type": "code",
   "execution_count": null,
   "metadata": {},
   "outputs": [],
   "source": [
    "# See Above"
   ]
  },
  {
   "cell_type": "markdown",
   "metadata": {},
   "source": [
    "## Classes as Attributes <br>\n",
    "<p>Classes can also be used as attributes within another class. This is useful in situations where you need to keep variables locally stored, instead of globally stored.</p>"
   ]
  },
  {
   "cell_type": "code",
   "execution_count": 72,
   "metadata": {},
   "outputs": [
    {
     "name": "stdout",
     "output_type": "stream",
     "text": [
      "2020 tesla 24v 7 20\n",
      "recharging\n"
     ]
    }
   ],
   "source": [
    "class Ecar():\n",
    "    def __init__(self, year, make, abattery):\n",
    "        self.year = year\n",
    "        self.make = make\n",
    "        self.battery = abattery\n",
    "        \n",
    "    def describe(self):\n",
    "        print(self.year , self.make, self.battery.volts, self.battery.time, self.battery.cells)\n",
    "        \n",
    "class Battery():\n",
    "    volts = \"24v\"\n",
    "    def __init__(self,cells):\n",
    "        self.cells = cells\n",
    "        self.time = 7\n",
    "        self.var = \"my_battery\"\n",
    "        \n",
    "    def recharge(self):\n",
    "        print(\"recharging\")\n",
    "        \n",
    "\n",
    "tesla = Ecar(2020,\"tesla\",Battery(20))\n",
    "tesla.describe()\n",
    "tesla.battery.recharge()"
   ]
  },
  {
   "cell_type": "code",
   "execution_count": 75,
   "metadata": {},
   "outputs": [
    {
     "name": "stdout",
     "output_type": "stream",
     "text": [
      "Run Rant Or Quit?  run\n",
      "eryn says im tired huff puff\n",
      "Run Rant Or Quit?  rant\n",
      "eryn says epstein didnt kys\n",
      "Run Rant Or Quit?  quit\n"
     ]
    }
   ],
   "source": [
    "class UI():\n",
    "    def __init__(self,person):\n",
    "        self.person = person\n",
    "        \n",
    "    def runpro(self):\n",
    "        while True:\n",
    "            response = input(\"Run Rant Or Quit?  \")\n",
    "            if response.lower() == \"quit\":\n",
    "                break\n",
    "            elif response.lower() == \"run\":\n",
    "                self.person.run()\n",
    "            elif response.lower() == \"rant\":\n",
    "                self.person.rant()\n",
    "                \n",
    "class Person():\n",
    "    def __init__(self,name,age):\n",
    "        self.name = name\n",
    "        self.age = age\n",
    "        \n",
    "    def run(self):\n",
    "        print(f\"{self.name} says im tired huff puff\")\n",
    "        \n",
    "    def rant(self):\n",
    "        print(f\"{self.name} says epstein didnt kys\")\n",
    "        \n",
    "        \n",
    "eryn = Person(\"eryn\",21)\n",
    "ui = UI(eryn)\n",
    "ui.runpro()"
   ]
  },
  {
   "cell_type": "code",
   "execution_count": 78,
   "metadata": {},
   "outputs": [
    {
     "name": "stdout",
     "output_type": "stream",
     "text": [
      "brush\n",
      "run on legs\n"
     ]
    }
   ],
   "source": [
    "class FourLegs():\n",
    "    def run(cls):\n",
    "        print(\"run on legs\")\n",
    "        \n",
    "class Fury():\n",
    "    def brush(self):\n",
    "        print(\"brush\")\n",
    "        \n",
    "    def run(self):\n",
    "        print(\"no legs\")\n",
    "        \n",
    "class Dog(FourLegs,Fury):   #fisrt class wins in cases where methods are oin both classes \n",
    "    def __init__(self):\n",
    "        super().__init__()\n",
    "        \n",
    "buster = Dog()\n",
    "buster.brush()\n",
    "buster.run()"
   ]
  },
  {
   "cell_type": "markdown",
   "metadata": {},
   "source": [
    "# Exercises"
   ]
  },
  {
   "cell_type": "markdown",
   "metadata": {},
   "source": [
    "### Exercise 1 - Turn the shopping cart program from yesterday into an object-oriented program"
   ]
  },
  {
   "cell_type": "code",
   "execution_count": 10,
   "metadata": {},
   "outputs": [
    {
     "name": "stdout",
     "output_type": "stream",
     "text": [
      "What is your item? apple\n",
      "What is the price? 2\n",
      "{'apple': '2'}\n",
      "Would you like to remove an item?  n\n",
      "Are you done shopping?(y/n)  n\n",
      "What is your item? pasta\n",
      "What is the price? 25\n",
      "{'apple': '2', 'pasta': '25'}\n",
      "Would you like to remove an item?  n\n",
      "Are you done shopping?(y/n)  n\n",
      "What is your item? oke\n",
      "What is the price? 33\n",
      "{'apple': '2', 'pasta': '25', 'oke': '33'}\n",
      "Would you like to remove an item?  y\n",
      "What would you like to remove? oke\n",
      "Are you done shopping?(y/n)  y\n",
      "{'apple': '2', 'pasta': '25'}\n"
     ]
    }
   ],
   "source": [
    "# Create a class called cart that retains items and has methods to add, remove, and show\n",
    "\n",
    "class Cart():\n",
    "    def __init__(self):\n",
    "        self.grocery = {}\n",
    "    def add(self):\n",
    "        self.item = input(\"What is your item? \")\n",
    "        self.price = input(\"What is the price? \")\n",
    "        self.grocery.update({self.item : self.price})\n",
    "    def see(self):\n",
    "        print(self.grocery)\n",
    "    def delete(self):\n",
    "        del self.grocery[input(\"What would you like to remove? \")]  \n",
    "    def start(self):\n",
    "        while True:\n",
    "            grocery.add()\n",
    "            grocery.see()\n",
    "            remove = input(\"Would you like to remove an item?  \")\n",
    "            if remove == \"y\":\n",
    "                grocery.delete()\n",
    "            end = input(\"Are you done shopping?(y/n)  \")\n",
    "            if end == \"y\":\n",
    "                print(self.grocery)\n",
    "                break\n",
    "\n",
    "\n",
    "\n",
    "grocery = Cart()\n",
    "grocery.start()"
   ]
  },
  {
   "cell_type": "code",
   "execution_count": null,
   "metadata": {},
   "outputs": [],
   "source": [
    "user = input(\"Do you want to : See/Add/Delete or Quit?  \")\n",
    "        if user == \"add\":\n",
    "            item = input(\"What is your item? \")\n",
    "            price = input(\"What is the price? \")\n",
    "        shoppinglist.update({item : price})\n",
    "        if user == \"see\":\n",
    "                print(shoppinglist)\n",
    "        if user == \"quit\":\n",
    "            quit = input(\"Done shopping?(yes or no) \")\n",
    "            if quit == \"yes\":\n",
    "                break"
   ]
  },
  {
   "cell_type": "markdown",
   "metadata": {},
   "source": [
    "### Exercise 2 - Write a Python class which has two methods get_String and print_String. get_String accept a string from the user and print_String print the string in upper case"
   ]
  },
  {
   "cell_type": "code",
   "execution_count": 30,
   "metadata": {},
   "outputs": [
    {
     "name": "stdout",
     "output_type": "stream",
     "text": [
      "hello\n",
      "HELLO\n"
     ]
    }
   ],
   "source": [
    "class GetStrings():\n",
    "    def __init__(self):\n",
    "        self.user = \"\"\n",
    "\n",
    "    def get_string(self):\n",
    "        self.user = input()\n",
    "\n",
    "    def print_string(self):\n",
    "        print(self.user.upper())\n",
    "        \n",
    "getit = GetStrings()\n",
    "getit.get_string()\n",
    "getit.print_string()"
   ]
  },
  {
   "cell_type": "code",
   "execution_count": null,
   "metadata": {},
   "outputs": [],
   "source": []
  }
 ],
 "metadata": {
  "kernelspec": {
   "display_name": "Python 3 (ipykernel)",
   "language": "python",
   "name": "python3"
  },
  "language_info": {
   "codemirror_mode": {
    "name": "ipython",
    "version": 3
   },
   "file_extension": ".py",
   "mimetype": "text/x-python",
   "name": "python",
   "nbconvert_exporter": "python",
   "pygments_lexer": "ipython3",
   "version": "3.9.7"
  }
 },
 "nbformat": 4,
 "nbformat_minor": 2
}
